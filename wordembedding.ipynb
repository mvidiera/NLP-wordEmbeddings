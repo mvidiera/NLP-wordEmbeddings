{
 "cells": [
  {
   "cell_type": "markdown",
   "metadata": {},
   "source": [
    "### Word Embedding Techniques using Embedding Layer in Keras"
   ]
  },
  {
   "cell_type": "markdown",
   "metadata": {},
   "source": [
    "### Libraries USed Tensorflow> 2.0  and keras\n",
    "Word embeddings provide a dense representation of words and their relative meanings.\n",
    "\n",
    "Word embeddings are a type of word representation that allows words with similar meaning to have a similar representation.\n",
    "\n",
    "Word embeddings are in fact a class of techniques where individual words are represented as real-valued vectors in a predefined vector space. Each word is mapped to one vector and the vector values are learned in a way that resembles a neural network, and hence the technique is often lumped into the field of deep learning.\n",
    "\n",
    "Each word is represented by a real-valued vector, often tens or hundreds of dimensions. This is contrasted to the thousands or millions of dimensions required for sparse word representations, such as a one-hot encoding.\n",
    "\n"
   ]
  },
  {
   "cell_type": "code",
   "execution_count": null,
   "metadata": {},
   "outputs": [],
   "source": []
  },
  {
   "cell_type": "code",
   "execution_count": 1,
   "metadata": {},
   "outputs": [],
   "source": [
    "##tensorflow >2.0\n",
    "from tensorflow.keras.preprocessing.text import one_hot"
   ]
  },
  {
   "cell_type": "code",
   "execution_count": 2,
   "metadata": {},
   "outputs": [],
   "source": [
    "### sentences\n",
    "sent=[  'the glass of milk',\n",
    "     'the glass of juice',\n",
    "     'the cup of tea',\n",
    "    'I am a good boy',\n",
    "     'I am a good developer',\n",
    "     'understand the meaning of words',\n",
    "     'your videos are good',]"
   ]
  },
  {
   "cell_type": "code",
   "execution_count": 3,
   "metadata": {},
   "outputs": [
    {
     "data": {
      "text/plain": [
       "['the glass of milk',\n",
       " 'the glass of juice',\n",
       " 'the cup of tea',\n",
       " 'I am a good boy',\n",
       " 'I am a good developer',\n",
       " 'understand the meaning of words',\n",
       " 'your videos are good']"
      ]
     },
     "execution_count": 3,
     "metadata": {},
     "output_type": "execute_result"
    }
   ],
   "source": [
    "sent"
   ]
  },
  {
   "cell_type": "code",
   "execution_count": 5,
   "metadata": {},
   "outputs": [],
   "source": [
    "### Vocabulary size: size of dictionary\n",
    "voc_size=10000"
   ]
  },
  {
   "cell_type": "markdown",
   "metadata": {},
   "source": [
    "#### One Hot Representation"
   ]
  },
  {
   "cell_type": "code",
   "execution_count": 7,
   "metadata": {},
   "outputs": [
    {
     "name": "stdout",
     "output_type": "stream",
     "text": [
      "[[8611, 3959, 9692, 5943], [8611, 3959, 9692, 758], [8611, 1636, 9692, 2394], [5113, 6445, 3482, 3926, 5085], [5113, 6445, 3482, 3926, 3957], [7824, 8611, 407, 9692, 2095], [4342, 8339, 8998, 3926]]\n"
     ]
    }
   ],
   "source": [
    "#to represent setences in one hot \n",
    "# for all words in sentecences( for loop ) pass each word in one_hot() where arg is word and voc size\n",
    "# we will get index from dictionary\n",
    "onehot_repr=[one_hot(words,voc_size)for words in sent] \n",
    "print(onehot_repr)\n",
    "\n",
    "#the- 8611 glass 3959, same for 1st n 2nd sentence\n"
   ]
  },
  {
   "cell_type": "markdown",
   "metadata": {},
   "source": [
    "### Word Embedding Representation"
   ]
  },
  {
   "cell_type": "code",
   "execution_count": 8,
   "metadata": {},
   "outputs": [],
   "source": [
    "from tensorflow.keras.layers import Embedding\n",
    "from tensorflow.keras.preprocessing.sequence import pad_sequences #very imp.\n",
    "#when Im passing the words to embedding layer, all the words should have same length of sentences\n",
    "from tensorflow.keras.models import Sequential"
   ]
  },
  {
   "cell_type": "code",
   "execution_count": 9,
   "metadata": {},
   "outputs": [],
   "source": [
    "import numpy as np"
   ]
  },
  {
   "cell_type": "code",
   "execution_count": 11,
   "metadata": {},
   "outputs": [
    {
     "name": "stdout",
     "output_type": "stream",
     "text": [
      "[[   0    0    0    0 8611 3959 9692 5943]\n",
      " [   0    0    0    0 8611 3959 9692  758]\n",
      " [   0    0    0    0 8611 1636 9692 2394]\n",
      " [   0    0    0 5113 6445 3482 3926 5085]\n",
      " [   0    0    0 5113 6445 3482 3926 3957]\n",
      " [   0    0    0 7824 8611  407 9692 2095]\n",
      " [   0    0    0    0 4342 8339 8998 3926]]\n"
     ]
    }
   ],
   "source": [
    "# embedding words procedure: \n",
    "#embedding matrix takes one hot as input. \n",
    "#comvert into same dimension matrix for each sentences\n",
    "\n",
    "# my all input sentences have max 5 words. however I gave sent lentgh as 8, if I have 4 words then 1st 4 will be\n",
    "#padded using padding technique. for 5 word sentences, 1st 3 words will be padded etc\n",
    "# because padding= 3, hence 1st 3 words are padded as 0\n",
    "\n",
    "sent_length=8\n",
    "embedded_docs=pad_sequences(onehot_repr,padding='pre',maxlen=sent_length)\n",
    "print(embedded_docs)\n",
    "\n",
    "#it converts all sentences into 8 word 2D matrix. \n"
   ]
  },
  {
   "cell_type": "code",
   "execution_count": 12,
   "metadata": {},
   "outputs": [],
   "source": [
    "dim=10\n",
    "# how many features for featurised rep\n",
    "# embedding"
   ]
  },
  {
   "cell_type": "code",
   "execution_count": 13,
   "metadata": {},
   "outputs": [
    {
     "name": "stderr",
     "output_type": "stream",
     "text": [
      "2022-04-08 02:11:11.931193: I tensorflow/core/platform/cpu_feature_guard.cc:151] This TensorFlow binary is optimized with oneAPI Deep Neural Network Library (oneDNN) to use the following CPU instructions in performance-critical operations:  AVX2 FMA\n",
      "To enable them in other operations, rebuild TensorFlow with the appropriate compiler flags.\n"
     ]
    }
   ],
   "source": [
    "model=Sequential()\n",
    "model.add(Embedding(voc_size,10,input_length=sent_length))\n",
    "#based on number of dim, add() crete a neural network by providing parameters voc size, dim n sent length\n",
    "\n",
    "model.compile('adam','mse') # compiling \n",
    "\n",
    "#this just created embedding model, I still havent passed my input sentences"
   ]
  },
  {
   "cell_type": "code",
   "execution_count": 14,
   "metadata": {},
   "outputs": [
    {
     "name": "stdout",
     "output_type": "stream",
     "text": [
      "Model: \"sequential\"\n",
      "_________________________________________________________________\n",
      " Layer (type)                Output Shape              Param #   \n",
      "=================================================================\n",
      " embedding (Embedding)       (None, 8, 10)             100000    \n",
      "                                                                 \n",
      "=================================================================\n",
      "Total params: 100,000\n",
      "Trainable params: 100,000\n",
      "Non-trainable params: 0\n",
      "_________________________________________________________________\n"
     ]
    }
   ],
   "source": [
    "model.summary()"
   ]
  },
  {
   "cell_type": "code",
   "execution_count": 15,
   "metadata": {},
   "outputs": [
    {
     "name": "stdout",
     "output_type": "stream",
     "text": [
      "[[[ 0.02784664 -0.01569377  0.01188022  0.02965844  0.04715444\n",
      "    0.040605    0.03608351  0.03407392 -0.02174805  0.03766486]\n",
      "  [ 0.02784664 -0.01569377  0.01188022  0.02965844  0.04715444\n",
      "    0.040605    0.03608351  0.03407392 -0.02174805  0.03766486]\n",
      "  [ 0.02784664 -0.01569377  0.01188022  0.02965844  0.04715444\n",
      "    0.040605    0.03608351  0.03407392 -0.02174805  0.03766486]\n",
      "  [ 0.02784664 -0.01569377  0.01188022  0.02965844  0.04715444\n",
      "    0.040605    0.03608351  0.03407392 -0.02174805  0.03766486]\n",
      "  [-0.04975528  0.03627307 -0.0166804   0.015333    0.01016755\n",
      "   -0.0360647  -0.02347807 -0.0420367   0.03846068 -0.0059222 ]\n",
      "  [-0.04386101  0.04193321 -0.02103049  0.04083448 -0.01698311\n",
      "    0.02147334  0.04542402  0.01374302  0.0479172   0.04452595]\n",
      "  [-0.03387966 -0.035608    0.04849163  0.00199207 -0.04251428\n",
      "   -0.0419197   0.00797311 -0.01449846 -0.04899523  0.0294641 ]\n",
      "  [-0.00712545 -0.04838101  0.00919814  0.00970845  0.03730467\n",
      "   -0.00813708  0.00768455 -0.02008561 -0.02463096  0.02042559]]\n",
      "\n",
      " [[ 0.02784664 -0.01569377  0.01188022  0.02965844  0.04715444\n",
      "    0.040605    0.03608351  0.03407392 -0.02174805  0.03766486]\n",
      "  [ 0.02784664 -0.01569377  0.01188022  0.02965844  0.04715444\n",
      "    0.040605    0.03608351  0.03407392 -0.02174805  0.03766486]\n",
      "  [ 0.02784664 -0.01569377  0.01188022  0.02965844  0.04715444\n",
      "    0.040605    0.03608351  0.03407392 -0.02174805  0.03766486]\n",
      "  [ 0.02784664 -0.01569377  0.01188022  0.02965844  0.04715444\n",
      "    0.040605    0.03608351  0.03407392 -0.02174805  0.03766486]\n",
      "  [-0.04975528  0.03627307 -0.0166804   0.015333    0.01016755\n",
      "   -0.0360647  -0.02347807 -0.0420367   0.03846068 -0.0059222 ]\n",
      "  [-0.04386101  0.04193321 -0.02103049  0.04083448 -0.01698311\n",
      "    0.02147334  0.04542402  0.01374302  0.0479172   0.04452595]\n",
      "  [-0.03387966 -0.035608    0.04849163  0.00199207 -0.04251428\n",
      "   -0.0419197   0.00797311 -0.01449846 -0.04899523  0.0294641 ]\n",
      "  [ 0.04209106  0.00631841  0.01257067 -0.04930587  0.04349643\n",
      "    0.02390022 -0.02204533 -0.04778776 -0.00377369 -0.00277455]]\n",
      "\n",
      " [[ 0.02784664 -0.01569377  0.01188022  0.02965844  0.04715444\n",
      "    0.040605    0.03608351  0.03407392 -0.02174805  0.03766486]\n",
      "  [ 0.02784664 -0.01569377  0.01188022  0.02965844  0.04715444\n",
      "    0.040605    0.03608351  0.03407392 -0.02174805  0.03766486]\n",
      "  [ 0.02784664 -0.01569377  0.01188022  0.02965844  0.04715444\n",
      "    0.040605    0.03608351  0.03407392 -0.02174805  0.03766486]\n",
      "  [ 0.02784664 -0.01569377  0.01188022  0.02965844  0.04715444\n",
      "    0.040605    0.03608351  0.03407392 -0.02174805  0.03766486]\n",
      "  [-0.04975528  0.03627307 -0.0166804   0.015333    0.01016755\n",
      "   -0.0360647  -0.02347807 -0.0420367   0.03846068 -0.0059222 ]\n",
      "  [ 0.01022051 -0.03224323  0.01608482 -0.0484614   0.0266482\n",
      "   -0.00908693  0.02590119  0.02917475  0.0301509   0.04374024]\n",
      "  [-0.03387966 -0.035608    0.04849163  0.00199207 -0.04251428\n",
      "   -0.0419197   0.00797311 -0.01449846 -0.04899523  0.0294641 ]\n",
      "  [ 0.00786857  0.03096774  0.03796121 -0.02729051  0.03807581\n",
      "    0.02184758  0.01866079  0.04940242  0.02879448  0.03587406]]\n",
      "\n",
      " [[ 0.02784664 -0.01569377  0.01188022  0.02965844  0.04715444\n",
      "    0.040605    0.03608351  0.03407392 -0.02174805  0.03766486]\n",
      "  [ 0.02784664 -0.01569377  0.01188022  0.02965844  0.04715444\n",
      "    0.040605    0.03608351  0.03407392 -0.02174805  0.03766486]\n",
      "  [ 0.02784664 -0.01569377  0.01188022  0.02965844  0.04715444\n",
      "    0.040605    0.03608351  0.03407392 -0.02174805  0.03766486]\n",
      "  [-0.00797558  0.0120456  -0.00622624 -0.01304811 -0.02271668\n",
      "   -0.00745527  0.00857025 -0.03868725  0.00817574  0.04019682]\n",
      "  [-0.02248875 -0.02886218 -0.04945234 -0.0208143  -0.02684356\n",
      "    0.0064823   0.03641519  0.02931223  0.01767749 -0.04629087]\n",
      "  [ 0.00515753 -0.01577431  0.00717705 -0.04796734  0.03305664\n",
      "   -0.00104146  0.00056144  0.03484292  0.01697608 -0.00193354]\n",
      "  [-0.04813117  0.01728196 -0.03972809  0.01906183  0.03763548\n",
      "   -0.0345699   0.03851409 -0.00160931  0.02659043  0.01167411]\n",
      "  [-0.03631091 -0.03976637  0.04083178  0.0025089  -0.04470858\n",
      "    0.04710653 -0.00088626  0.04769934 -0.04222362 -0.01998833]]\n",
      "\n",
      " [[ 0.02784664 -0.01569377  0.01188022  0.02965844  0.04715444\n",
      "    0.040605    0.03608351  0.03407392 -0.02174805  0.03766486]\n",
      "  [ 0.02784664 -0.01569377  0.01188022  0.02965844  0.04715444\n",
      "    0.040605    0.03608351  0.03407392 -0.02174805  0.03766486]\n",
      "  [ 0.02784664 -0.01569377  0.01188022  0.02965844  0.04715444\n",
      "    0.040605    0.03608351  0.03407392 -0.02174805  0.03766486]\n",
      "  [-0.00797558  0.0120456  -0.00622624 -0.01304811 -0.02271668\n",
      "   -0.00745527  0.00857025 -0.03868725  0.00817574  0.04019682]\n",
      "  [-0.02248875 -0.02886218 -0.04945234 -0.0208143  -0.02684356\n",
      "    0.0064823   0.03641519  0.02931223  0.01767749 -0.04629087]\n",
      "  [ 0.00515753 -0.01577431  0.00717705 -0.04796734  0.03305664\n",
      "   -0.00104146  0.00056144  0.03484292  0.01697608 -0.00193354]\n",
      "  [-0.04813117  0.01728196 -0.03972809  0.01906183  0.03763548\n",
      "   -0.0345699   0.03851409 -0.00160931  0.02659043  0.01167411]\n",
      "  [ 0.03890133  0.00180583 -0.01550132  0.01922819 -0.00689689\n",
      "    0.0019387   0.01399242 -0.02932137 -0.00737505 -0.00193641]]\n",
      "\n",
      " [[ 0.02784664 -0.01569377  0.01188022  0.02965844  0.04715444\n",
      "    0.040605    0.03608351  0.03407392 -0.02174805  0.03766486]\n",
      "  [ 0.02784664 -0.01569377  0.01188022  0.02965844  0.04715444\n",
      "    0.040605    0.03608351  0.03407392 -0.02174805  0.03766486]\n",
      "  [ 0.02784664 -0.01569377  0.01188022  0.02965844  0.04715444\n",
      "    0.040605    0.03608351  0.03407392 -0.02174805  0.03766486]\n",
      "  [ 0.00798531  0.00266557 -0.01626688  0.04408662  0.00539749\n",
      "    0.00279211  0.04148817  0.00988112 -0.00336839  0.03960541]\n",
      "  [-0.04975528  0.03627307 -0.0166804   0.015333    0.01016755\n",
      "   -0.0360647  -0.02347807 -0.0420367   0.03846068 -0.0059222 ]\n",
      "  [-0.04323814 -0.02946962  0.00053684  0.00082188 -0.04087821\n",
      "   -0.01770654 -0.02946979  0.015035    0.0468196   0.00163358]\n",
      "  [-0.03387966 -0.035608    0.04849163  0.00199207 -0.04251428\n",
      "   -0.0419197   0.00797311 -0.01449846 -0.04899523  0.0294641 ]\n",
      "  [-0.01035406  0.01591878 -0.02029595 -0.02661247 -0.01758109\n",
      "   -0.0165833  -0.0035306   0.04516652 -0.04711367  0.00326262]]\n",
      "\n",
      " [[ 0.02784664 -0.01569377  0.01188022  0.02965844  0.04715444\n",
      "    0.040605    0.03608351  0.03407392 -0.02174805  0.03766486]\n",
      "  [ 0.02784664 -0.01569377  0.01188022  0.02965844  0.04715444\n",
      "    0.040605    0.03608351  0.03407392 -0.02174805  0.03766486]\n",
      "  [ 0.02784664 -0.01569377  0.01188022  0.02965844  0.04715444\n",
      "    0.040605    0.03608351  0.03407392 -0.02174805  0.03766486]\n",
      "  [ 0.02784664 -0.01569377  0.01188022  0.02965844  0.04715444\n",
      "    0.040605    0.03608351  0.03407392 -0.02174805  0.03766486]\n",
      "  [-0.04553845  0.03613447 -0.04794232 -0.04020578 -0.04709878\n",
      "   -0.03672231  0.00396193  0.03939045 -0.01292742  0.00483409]\n",
      "  [ 0.03198561  0.02232127  0.04927654  0.02107007  0.0025999\n",
      "   -0.04769139 -0.04566869 -0.00371187 -0.02471291  0.01726072]\n",
      "  [-0.02896321 -0.01784217 -0.04501003 -0.00561696  0.00749631\n",
      "   -0.01142747 -0.01871716 -0.00092053  0.02072995 -0.04111977]\n",
      "  [-0.04813117  0.01728196 -0.03972809  0.01906183  0.03763548\n",
      "   -0.0345699   0.03851409 -0.00160931  0.02659043  0.01167411]]]\n"
     ]
    }
   ],
   "source": [
    "print(model.predict(embedded_docs))\n",
    "#each sentence is provided into the model \n",
    "# for each sentence, I will get array of dim= 10 feature. That is feature rep, that is each word is converted into \n",
    "#dmension of 10 vectors\n",
    "\n"
   ]
  },
  {
   "cell_type": "code",
   "execution_count": 20,
   "metadata": {},
   "outputs": [
    {
     "data": {
      "text/plain": [
       "array([   0,    0,    0,    0, 8611, 3959, 9692, 5943], dtype=int32)"
      ]
     },
     "execution_count": 20,
     "metadata": {},
     "output_type": "execute_result"
    }
   ],
   "source": [
    "# considering 1st sentence\n",
    "embedded_docs[0]"
   ]
  },
  {
   "cell_type": "code",
   "execution_count": 22,
   "metadata": {},
   "outputs": [
    {
     "name": "stdout",
     "output_type": "stream",
     "text": [
      "[[ 0.02784664 -0.01569377  0.01188022  0.02965844  0.04715444  0.040605\n",
      "   0.03608351  0.03407392 -0.02174805  0.03766486]\n",
      " [ 0.02784664 -0.01569377  0.01188022  0.02965844  0.04715444  0.040605\n",
      "   0.03608351  0.03407392 -0.02174805  0.03766486]\n",
      " [ 0.02784664 -0.01569377  0.01188022  0.02965844  0.04715444  0.040605\n",
      "   0.03608351  0.03407392 -0.02174805  0.03766486]\n",
      " [ 0.02784664 -0.01569377  0.01188022  0.02965844  0.04715444  0.040605\n",
      "   0.03608351  0.03407392 -0.02174805  0.03766486]\n",
      " [-0.04975528  0.03627307 -0.0166804   0.015333    0.01016755 -0.0360647\n",
      "  -0.02347807 -0.0420367   0.03846068 -0.0059222 ]\n",
      " [-0.04386101  0.04193321 -0.02103049  0.04083448 -0.01698311  0.02147334\n",
      "   0.04542402  0.01374302  0.0479172   0.04452595]\n",
      " [-0.03387966 -0.035608    0.04849163  0.00199207 -0.04251428 -0.0419197\n",
      "   0.00797311 -0.01449846 -0.04899523  0.0294641 ]\n",
      " [-0.00712545 -0.04838101  0.00919814  0.00970845  0.03730467 -0.00813708\n",
      "   0.00768455 -0.02008561 -0.02463096  0.02042559]]\n"
     ]
    }
   ],
   "source": [
    "print(model.predict(embedded_docs)[0])\n",
    "\n",
    "#first 4 entries are same as all are 0\n",
    "# 5th entry is for word 'the', 6th entry is for word 'glass' etc\n"
   ]
  },
  {
   "cell_type": "code",
   "execution_count": null,
   "metadata": {},
   "outputs": [],
   "source": []
  }
 ],
 "metadata": {
  "kernelspec": {
   "display_name": "Python 3 (ipykernel)",
   "language": "python",
   "name": "python3"
  },
  "language_info": {
   "codemirror_mode": {
    "name": "ipython",
    "version": 3
   },
   "file_extension": ".py",
   "mimetype": "text/x-python",
   "name": "python",
   "nbconvert_exporter": "python",
   "pygments_lexer": "ipython3",
   "version": "3.8.8"
  }
 },
 "nbformat": 4,
 "nbformat_minor": 2
}
